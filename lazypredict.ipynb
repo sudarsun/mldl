{
 "cells": [
  {
   "cell_type": "code",
   "execution_count": 2,
   "metadata": {},
   "outputs": [
    {
     "name": "stderr",
     "output_type": "stream",
     "text": [
      "/usr/lib/python3/dist-packages/dask/dataframe/utils.py:14: FutureWarning: pandas.util.testing is deprecated. Use the functions in the public API at pandas.testing instead.\n",
      "  import pandas.util.testing as tm\n"
     ]
    }
   ],
   "source": [
    "from lazypredict.Supervised import LazyClassifier"
   ]
  },
  {
   "cell_type": "code",
   "execution_count": 3,
   "metadata": {},
   "outputs": [],
   "source": [
    "from sklearn.datasets import load_breast_cancer\n",
    "from sklearn.model_selection import train_test_split"
   ]
  },
  {
   "cell_type": "code",
   "execution_count": 4,
   "metadata": {},
   "outputs": [],
   "source": [
    "data =  load_breast_cancer()\n",
    "X = data.data\n",
    "y = data.target"
   ]
  },
  {
   "cell_type": "code",
   "execution_count": 5,
   "metadata": {},
   "outputs": [],
   "source": [
    "X_train, X_test, y_train, y_test = train_test_split(X, y, test_size=.5, random_state=110)\n"
   ]
  },
  {
   "cell_type": "code",
   "execution_count": 7,
   "metadata": {},
   "outputs": [
    {
     "name": "stderr",
     "output_type": "stream",
     "text": [
      " 31%|███       | 9/29 [00:00<00:00, 42.61it/s]"
     ]
    },
    {
     "name": "stdout",
     "output_type": "stream",
     "text": [
      "CategoricalNB model failed to execute\n",
      "Negative values in data passed to CategoricalNB (input X)\n"
     ]
    },
    {
     "name": "stderr",
     "output_type": "stream",
     "text": [
      " 76%|███████▌  | 22/29 [00:00<00:00, 39.31it/s]"
     ]
    },
    {
     "name": "stdout",
     "output_type": "stream",
     "text": [
      "StackingClassifier model failed to execute\n",
      "__init__() missing 1 required positional argument: 'estimators'\n"
     ]
    },
    {
     "name": "stderr",
     "output_type": "stream",
     "text": [
      "100%|██████████| 29/29 [00:04<00:00,  5.86it/s]"
     ]
    },
    {
     "name": "stdout",
     "output_type": "stream",
     "text": [
      "                               Accuracy  Balanced Accuracy  ROC AUC  F1 Score  \\\n",
      "Model                                                                           \n",
      "LinearSVC                          0.98               0.97     0.97      0.98   \n",
      "QuadraticDiscriminantAnalysis      0.97               0.97     0.97      0.97   \n",
      "LogisticRegression                 0.97               0.96     0.96      0.97   \n",
      "CalibratedClassifierCV             0.97               0.96     0.96      0.97   \n",
      "Perceptron                         0.97               0.96     0.96      0.97   \n",
      "PassiveAggressiveClassifier        0.97               0.96     0.96      0.97   \n",
      "SVC                                0.97               0.96     0.96      0.97   \n",
      "KNeighborsClassifier               0.96               0.96     0.96      0.96   \n",
      "SGDClassifier                      0.96               0.95     0.95      0.96   \n",
      "RandomForestClassifier             0.96               0.95     0.95      0.96   \n",
      "RidgeClassifier                    0.96               0.95     0.95      0.96   \n",
      "LinearDiscriminantAnalysis         0.96               0.95     0.95      0.96   \n",
      "XGBClassifier                      0.95               0.94     0.94      0.95   \n",
      "BaggingClassifier                  0.95               0.94     0.94      0.95   \n",
      "LGBMClassifier                     0.95               0.94     0.94      0.95   \n",
      "ExtraTreesClassifier               0.95               0.94     0.94      0.95   \n",
      "RidgeClassifierCV                  0.95               0.94     0.94      0.95   \n",
      "LabelSpreading                     0.95               0.94     0.94      0.95   \n",
      "LabelPropagation                   0.95               0.94     0.94      0.95   \n",
      "BernoulliNB                        0.94               0.93     0.93      0.94   \n",
      "AdaBoostClassifier                 0.94               0.93     0.93      0.94   \n",
      "GaussianNB                         0.94               0.92     0.92      0.94   \n",
      "DecisionTreeClassifier             0.93               0.92     0.92      0.93   \n",
      "NuSVC                              0.94               0.92     0.92      0.94   \n",
      "NearestCentroid                    0.92               0.90     0.90      0.92   \n",
      "ExtraTreeClassifier                0.91               0.89     0.89      0.90   \n",
      "DummyClassifier                    0.62               0.50     0.50      0.48   \n",
      "\n",
      "                               Time Taken  \n",
      "Model                                      \n",
      "LinearSVC                            0.02  \n",
      "QuadraticDiscriminantAnalysis        0.01  \n",
      "LogisticRegression                   0.02  \n",
      "CalibratedClassifierCV               0.02  \n",
      "Perceptron                           0.01  \n",
      "PassiveAggressiveClassifier          0.01  \n",
      "SVC                                  0.02  \n",
      "KNeighborsClassifier                 0.03  \n",
      "SGDClassifier                        0.02  \n",
      "RandomForestClassifier               0.12  \n",
      "RidgeClassifier                      0.01  \n",
      "LinearDiscriminantAnalysis           0.03  \n",
      "XGBClassifier                        4.23  \n",
      "BaggingClassifier                    0.03  \n",
      "LGBMClassifier                       0.08  \n",
      "ExtraTreesClassifier                 0.07  \n",
      "RidgeClassifierCV                    0.03  \n",
      "LabelSpreading                       0.03  \n",
      "LabelPropagation                     0.03  \n",
      "BernoulliNB                          0.01  \n",
      "AdaBoostClassifier                   0.08  \n",
      "GaussianNB                           0.01  \n",
      "DecisionTreeClassifier               0.01  \n",
      "NuSVC                                0.01  \n",
      "NearestCentroid                      0.01  \n",
      "ExtraTreeClassifier                  0.01  \n",
      "DummyClassifier                      0.01  \n"
     ]
    },
    {
     "name": "stderr",
     "output_type": "stream",
     "text": [
      "\n"
     ]
    }
   ],
   "source": [
    "clf = LazyClassifier(verbose=0, ignore_warnings=False, custom_metric=None)\n",
    "models,predictions = clf.fit(X_train, X_test, y_train, y_test)\n",
    "print(models)"
   ]
  },
  {
   "cell_type": "code",
   "execution_count": null,
   "metadata": {},
   "outputs": [],
   "source": []
  }
 ],
 "metadata": {
  "kernelspec": {
   "display_name": "Python 3",
   "language": "python",
   "name": "python3"
  },
  "language_info": {
   "codemirror_mode": {
    "name": "ipython",
    "version": 3
   },
   "file_extension": ".py",
   "mimetype": "text/x-python",
   "name": "python",
   "nbconvert_exporter": "python",
   "pygments_lexer": "ipython3",
   "version": "3.8.10"
  }
 },
 "nbformat": 4,
 "nbformat_minor": 4
}
