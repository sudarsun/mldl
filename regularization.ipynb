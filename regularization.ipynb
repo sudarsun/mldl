{
 "cells": [
  {
   "cell_type": "code",
   "execution_count": 1,
   "metadata": {},
   "outputs": [],
   "source": [
    "import pandas as pd\n",
    "import numpy as np\n",
    "import matplotlib.pyplot as plt"
   ]
  },
  {
   "cell_type": "code",
   "execution_count": 3,
   "metadata": {},
   "outputs": [
    {
     "data": {
      "text/html": [
       "<div>\n",
       "<style scoped>\n",
       "    .dataframe tbody tr th:only-of-type {\n",
       "        vertical-align: middle;\n",
       "    }\n",
       "\n",
       "    .dataframe tbody tr th {\n",
       "        vertical-align: top;\n",
       "    }\n",
       "\n",
       "    .dataframe thead th {\n",
       "        text-align: right;\n",
       "    }\n",
       "</style>\n",
       "<table border=\"1\" class=\"dataframe\">\n",
       "  <thead>\n",
       "    <tr style=\"text-align: right;\">\n",
       "      <th></th>\n",
       "      <th>x</th>\n",
       "      <th>y</th>\n",
       "    </tr>\n",
       "  </thead>\n",
       "  <tbody>\n",
       "    <tr>\n",
       "      <th>0</th>\n",
       "      <td>-0.99768</td>\n",
       "      <td>2.08850</td>\n",
       "    </tr>\n",
       "    <tr>\n",
       "      <th>1</th>\n",
       "      <td>-0.69574</td>\n",
       "      <td>1.16460</td>\n",
       "    </tr>\n",
       "    <tr>\n",
       "      <th>2</th>\n",
       "      <td>-0.40373</td>\n",
       "      <td>0.32870</td>\n",
       "    </tr>\n",
       "    <tr>\n",
       "      <th>3</th>\n",
       "      <td>-0.10236</td>\n",
       "      <td>0.46013</td>\n",
       "    </tr>\n",
       "    <tr>\n",
       "      <th>4</th>\n",
       "      <td>0.22024</td>\n",
       "      <td>0.44808</td>\n",
       "    </tr>\n",
       "    <tr>\n",
       "      <th>5</th>\n",
       "      <td>0.47742</td>\n",
       "      <td>0.10013</td>\n",
       "    </tr>\n",
       "    <tr>\n",
       "      <th>6</th>\n",
       "      <td>0.82229</td>\n",
       "      <td>-0.32952</td>\n",
       "    </tr>\n",
       "  </tbody>\n",
       "</table>\n",
       "</div>"
      ],
      "text/plain": [
       "         x        y\n",
       "0 -0.99768  2.08850\n",
       "1 -0.69574  1.16460\n",
       "2 -0.40373  0.32870\n",
       "3 -0.10236  0.46013\n",
       "4  0.22024  0.44808\n",
       "5  0.47742  0.10013\n",
       "6  0.82229 -0.32952"
      ]
     },
     "metadata": {},
     "output_type": "display_data"
    }
   ],
   "source": [
    "x = [-.99768, -.69574, -.40373, -.10236, .22024, .47742, .82229]\n",
    "y = [2.0885, 1.1646, .3287, .46013, .44808, .10013, -.32952]\n",
    "input_data = pd.DataFrame(list(zip(x,y)), columns = ['x', 'y'])\n",
    "display(input_data)"
   ]
  },
  {
   "cell_type": "code",
   "execution_count": 4,
   "metadata": {},
   "outputs": [],
   "source": [
    "x = np.array(input_data.x)\n",
    "y = input_data.y"
   ]
  },
  {
   "cell_type": "code",
   "execution_count": 6,
   "metadata": {},
   "outputs": [
    {
     "data": {
      "image/png": "[encoded data removed]",
      "text/plain": [
       "<Figure size 432x288 with 1 Axes>"
      ]
     },
     "metadata": {
      "needs_background": "light"
     },
     "output_type": "display_data"
    }
   ],
   "source": [
    "plt.title(\"Input\", fontsize=20)\n",
    "plt.scatter(x,y,s=50,c='g')\n",
    "plt.xlabel(\"X\")\n",
    "plt.ylabel(\"Y\")\n",
    "plt.show()"
   ]
  },
  {
   "cell_type": "code",
   "execution_count": 8,
   "metadata": {},
   "outputs": [],
   "source": [
    "import statsmodels.api as sm"
   ]
  },
  {
   "cell_type": "code",
   "execution_count": 9,
   "metadata": {},
   "outputs": [
    {
     "name": "stdout",
     "output_type": "stream",
     "text": [
      "m1 SSE 0.7107401451797565\n"
     ]
    }
   ],
   "source": [
    "x1 = sm.add_constant(x)\n",
    "m1 = sm.OLS(y,x1).fit()\n",
    "print(\"m1 SSE\", m1.ssr)"
   ]
  },
  {
   "cell_type": "code",
   "execution_count": 10,
   "metadata": {},
   "outputs": [
    {
     "name": "stdout",
     "output_type": "stream",
     "text": [
      "m3 SSE 0.010562888801624653\n"
     ]
    }
   ],
   "source": [
    "x3 = sm.add_constant(np.column_stack([x, np.square(x), np.power(x,3), np.power(x,4), np.power(x,5)]))\n",
    "m3 = sm.OLS(y, x3).fit()\n",
    "print(\"m3 SSE\", m3.ssr)"
   ]
  },
  {
   "cell_type": "code",
   "execution_count": 39,
   "metadata": {},
   "outputs": [],
   "source": [
    "# start regularization now\n",
    "X = x3\n",
    "y = np.array(y)\n",
    "n_col = X.shape[1]\n",
    "d = np.identity(n_col)\n",
    "d[0,0]  = 0\n",
    "w = []"
   ]
  },
  {
   "cell_type": "code",
   "execution_count": 40,
   "metadata": {},
   "outputs": [
    {
     "data": {
      "text/plain": [
       "[array([ 0.47252877,  0.68135289, -1.38012842, -5.97768747,  2.44173268,\n",
       "         4.73711433])]"
      ]
     },
     "metadata": {},
     "output_type": "display_data"
    }
   ],
   "source": [
    "# perform least squares solution to the equation Ax = B\n",
    "# in here, we are setting up the L2 ridge regression\n",
    "# \\beta*(X^T*X + \\lambda*I) = X^T*y, effectively \\beta = (X^T*y) / (X^T*X + \\lambda*I)\n",
    "reg = 0\n",
    "soln = np.linalg.lstsq(X.T.dot(X) + reg*d, X.T.dot(y), rcond=None)\n",
    "w.append(soln[0])\n",
    "display(w)"
   ]
  },
  {
   "cell_type": "code",
   "execution_count": 41,
   "metadata": {},
   "outputs": [
    {
     "data": {
      "text/plain": [
       "[array([ 0.47252877,  0.68135289, -1.38012842, -5.97768747,  2.44173268,\n",
       "         4.73711433]),\n",
       " array([ 0.3975953 , -0.42066637,  0.12959211, -0.3974739 ,  0.17525553,\n",
       "        -0.33938772])]"
      ]
     },
     "metadata": {},
     "output_type": "display_data"
    }
   ],
   "source": [
    "reg=1\n",
    "soln = np.linalg.lstsq(X.T.dot(X) + reg*d, X.T.dot(y), rcond=None)\n",
    "w.append(soln[0])\n",
    "display(w)"
   ]
  },
  {
   "cell_type": "code",
   "execution_count": 42,
   "metadata": {},
   "outputs": [
    {
     "data": {
      "text/plain": [
       "[array([ 0.47252877,  0.68135289, -1.38012842, -5.97768747,  2.44173268,\n",
       "         4.73711433]),\n",
       " array([ 0.3975953 , -0.42066637,  0.12959211, -0.3974739 ,  0.17525553,\n",
       "        -0.33938772]),\n",
       " array([ 0.52047074, -0.18250706,  0.06064258, -0.14817721,  0.07433006,\n",
       "        -0.12795737])]"
      ]
     },
     "metadata": {},
     "output_type": "display_data"
    }
   ],
   "source": [
    "reg=10\n",
    "soln = np.linalg.lstsq(X.T.dot(X) + reg*d, X.T.dot(y), rcond=None)\n",
    "w.append(soln[0])\n",
    "display(w)"
   ]
  },
  {
   "cell_type": "code",
   "execution_count": 43,
   "metadata": {},
   "outputs": [
    {
     "name": "stdout",
     "output_type": "stream",
     "text": [
      "[array([ 0.47252877,  0.68135289, -1.38012842, -5.97768747,  2.44173268,\n",
      "        4.73711433]), array([ 0.3975953 , -0.42066637,  0.12959211, -0.3974739 ,  0.17525553,\n",
      "       -0.33938772]), array([ 0.52047074, -0.18250706,  0.06064258, -0.14817721,  0.07433006,\n",
      "       -0.12795737])]\n"
     ]
    }
   ],
   "source": [
    "print(w)"
   ]
  },
  {
   "cell_type": "code",
   "execution_count": 48,
   "metadata": {},
   "outputs": [
    {
     "data": {
      "image/png": "[encoded data removed]",
      "text/plain": [
       "<Figure size 576x432 with 1 Axes>"
      ]
     },
     "metadata": {
      "needs_background": "light"
     },
     "output_type": "display_data"
    }
   ],
   "source": [
    "plt.rcParams[\"figure.figsize\"] = (8,6)\n",
    "plt.title('Model results for different lambda values', fontsize=20)\n",
    "plt.scatter(x,y,s=50,c='g')\n",
    "x_new = np.linspace(x.min(), x.max(), 200)\n",
    "plt.plot(x_new, np.poly1d(np.polyfit(x, X.dot(w[0]), 5))(x_new), label='$\\lambda$=0', c='b')\n",
    "plt.plot(x_new, np.poly1d(np.polyfit(x, X.dot(w[1]), 5))(x_new), label='$\\lambda$=1', c='r')\n",
    "plt.plot(x_new, np.poly1d(np.polyfit(x, X.dot(w[2]), 5))(x_new), label='$\\lambda$=10', c='g')\n",
    "plt.legend(loc='upper right')\n",
    "plt.show()"
   ]
  }
 ],
 "metadata": {
  "kernelspec": {
   "display_name": "Python 3",
   "language": "python",
   "name": "python3"
  },
  "language_info": {
   "codemirror_mode": {
    "name": "ipython",
    "version": 3
   },
   "file_extension": ".py",
   "mimetype": "text/x-python",
   "name": "python",
   "nbconvert_exporter": "python",
   "pygments_lexer": "ipython3",
   "version": "3.8.10"
  }
 },
 "nbformat": 4,
 "nbformat_minor": 4
}
